{
  "nbformat": 4,
  "nbformat_minor": 0,
  "metadata": {
    "colab": {
      "provenance": [],
      "authorship_tag": "ABX9TyOzche6LVFwrTP1/g9KpyCh",
      "include_colab_link": true
    },
    "kernelspec": {
      "name": "python3",
      "display_name": "Python 3"
    },
    "language_info": {
      "name": "python"
    }
  },
  "cells": [
    {
      "cell_type": "markdown",
      "metadata": {
        "id": "view-in-github",
        "colab_type": "text"
      },
      "source": [
        "<a href=\"https://colab.research.google.com/github/hawkeyedatatsai/Find-Best-K-with-Elbow-Plot-and-Silhouette-Scores/blob/main/1_KMeans_Find_K.ipynb\" target=\"_parent\"><img src=\"https://colab.research.google.com/assets/colab-badge.svg\" alt=\"Open In Colab\"/></a>"
      ]
    },
    {
      "cell_type": "markdown",
      "source": [
        "#Task\n",
        "Your task is to perform customer segmentation using KMeans. We are interested in grouping our customers into groups based on similar characteristics. This can help the company effectively allocate marketing resources. We will use customer age, education, years of employment, income, debt, whether they defaulted, and their debt to income ratio to group them into segments.\n",
        "\n",
        "You can [download the data here](https://assets.codingdojo.com/boomyeah2015/codingdojo/curriculum/content/chapter/cust_seg.csv). The original data is from this [data source](https://github.com/Nikhil-Adithyan/Customer-Segmentation-with-K-Means).\n",
        "\n"
      ],
      "metadata": {
        "id": "PKwbD1fhcGNj"
      }
    },
    {
      "cell_type": "code",
      "source": [
        "from IPython.core.display import Path\n",
        "# Imports\n",
        "import numpy as np\n",
        "import matplotlib.pyplot as plt\n",
        "import pandas as pd\n",
        "from sklearn.impute import SimpleImputer\n",
        "from sklearn.preprocessing import StandardScaler\n",
        "from sklearn.pipeline import make_pipeline\n",
        "from sklearn.compose import make_column_transformer, make_column_selector\n",
        "from sklearn.cluster import KMeans\n",
        "from sklearn.metrics import silhouette_score\n",
        "Path ='/content/1-cust_seg.csv'\n",
        "df = pd.read_csv(Path)\n",
        "print(df.describe())\n",
        "print('\\n')\n",
        "print(df.info())\n",
        "print('\\n')\n",
        "df.head()"
      ],
      "metadata": {
        "colab": {
          "base_uri": "https://localhost:8080/",
          "height": 999
        },
        "id": "eKcEIinCcxbh",
        "outputId": "7e801bc3-29f0-4c94-c0ab-16bc15730983"
      },
      "execution_count": 9,
      "outputs": [
        {
          "output_type": "stream",
          "name": "stdout",
          "text": [
            "       Unnamed: 0  Customer Id         Age         Edu  Years Employed  \\\n",
            "count   850.00000    850.00000  850.000000  850.000000      850.000000   \n",
            "mean    424.50000    425.50000   35.029412    1.710588        8.565882   \n",
            "std     245.51816    245.51816    8.041432    0.927784        6.777884   \n",
            "min       0.00000      1.00000   20.000000    1.000000        0.000000   \n",
            "25%     212.25000    213.25000   29.000000    1.000000        3.000000   \n",
            "50%     424.50000    425.50000   34.000000    1.000000        7.000000   \n",
            "75%     636.75000    637.75000   41.000000    2.000000       13.000000   \n",
            "max     849.00000    850.00000   56.000000    5.000000       33.000000   \n",
            "\n",
            "           Income   Card Debt  Other Debt   Defaulted  DebtIncomeRatio  \n",
            "count  850.000000  850.000000  850.000000  700.000000       850.000000  \n",
            "mean    46.675294    1.576820    3.078773    0.261429        10.171647  \n",
            "std     38.543054    2.125843    3.398799    0.439727         6.719441  \n",
            "min     13.000000    0.012000    0.046000    0.000000         0.100000  \n",
            "25%     24.000000    0.382500    1.045750    0.000000         5.100000  \n",
            "50%     35.000000    0.885000    2.003000    0.000000         8.700000  \n",
            "75%     55.750000    1.898500    3.903250    1.000000        13.800000  \n",
            "max    446.000000   20.561000   35.197000    1.000000        41.300000  \n",
            "\n",
            "\n",
            "<class 'pandas.core.frame.DataFrame'>\n",
            "RangeIndex: 850 entries, 0 to 849\n",
            "Data columns (total 10 columns):\n",
            " #   Column           Non-Null Count  Dtype  \n",
            "---  ------           --------------  -----  \n",
            " 0   Unnamed: 0       850 non-null    int64  \n",
            " 1   Customer Id      850 non-null    int64  \n",
            " 2   Age              850 non-null    int64  \n",
            " 3   Edu              850 non-null    int64  \n",
            " 4   Years Employed   850 non-null    int64  \n",
            " 5   Income           850 non-null    int64  \n",
            " 6   Card Debt        850 non-null    float64\n",
            " 7   Other Debt       850 non-null    float64\n",
            " 8   Defaulted        700 non-null    float64\n",
            " 9   DebtIncomeRatio  850 non-null    float64\n",
            "dtypes: float64(4), int64(6)\n",
            "memory usage: 66.5 KB\n",
            "None\n",
            "\n",
            "\n"
          ]
        },
        {
          "output_type": "execute_result",
          "data": {
            "text/plain": [
              "   Unnamed: 0  Customer Id  Age  Edu  Years Employed  Income  Card Debt  \\\n",
              "0           0            1   41    2               6      19      0.124   \n",
              "1           1            2   47    1              26     100      4.582   \n",
              "2           2            3   33    2              10      57      6.111   \n",
              "3           3            4   29    2               4      19      0.681   \n",
              "4           4            5   47    1              31     253      9.308   \n",
              "\n",
              "   Other Debt  Defaulted  DebtIncomeRatio  \n",
              "0       1.073        0.0              6.3  \n",
              "1       8.218        0.0             12.8  \n",
              "2       5.802        1.0             20.9  \n",
              "3       0.516        0.0              6.3  \n",
              "4       8.908        0.0              7.2  "
            ],
            "text/html": [
              "\n",
              "  <div id=\"df-21fa7be1-8ec5-4716-8c04-c6f8d15e47f8\">\n",
              "    <div class=\"colab-df-container\">\n",
              "      <div>\n",
              "<style scoped>\n",
              "    .dataframe tbody tr th:only-of-type {\n",
              "        vertical-align: middle;\n",
              "    }\n",
              "\n",
              "    .dataframe tbody tr th {\n",
              "        vertical-align: top;\n",
              "    }\n",
              "\n",
              "    .dataframe thead th {\n",
              "        text-align: right;\n",
              "    }\n",
              "</style>\n",
              "<table border=\"1\" class=\"dataframe\">\n",
              "  <thead>\n",
              "    <tr style=\"text-align: right;\">\n",
              "      <th></th>\n",
              "      <th>Unnamed: 0</th>\n",
              "      <th>Customer Id</th>\n",
              "      <th>Age</th>\n",
              "      <th>Edu</th>\n",
              "      <th>Years Employed</th>\n",
              "      <th>Income</th>\n",
              "      <th>Card Debt</th>\n",
              "      <th>Other Debt</th>\n",
              "      <th>Defaulted</th>\n",
              "      <th>DebtIncomeRatio</th>\n",
              "    </tr>\n",
              "  </thead>\n",
              "  <tbody>\n",
              "    <tr>\n",
              "      <th>0</th>\n",
              "      <td>0</td>\n",
              "      <td>1</td>\n",
              "      <td>41</td>\n",
              "      <td>2</td>\n",
              "      <td>6</td>\n",
              "      <td>19</td>\n",
              "      <td>0.124</td>\n",
              "      <td>1.073</td>\n",
              "      <td>0.0</td>\n",
              "      <td>6.3</td>\n",
              "    </tr>\n",
              "    <tr>\n",
              "      <th>1</th>\n",
              "      <td>1</td>\n",
              "      <td>2</td>\n",
              "      <td>47</td>\n",
              "      <td>1</td>\n",
              "      <td>26</td>\n",
              "      <td>100</td>\n",
              "      <td>4.582</td>\n",
              "      <td>8.218</td>\n",
              "      <td>0.0</td>\n",
              "      <td>12.8</td>\n",
              "    </tr>\n",
              "    <tr>\n",
              "      <th>2</th>\n",
              "      <td>2</td>\n",
              "      <td>3</td>\n",
              "      <td>33</td>\n",
              "      <td>2</td>\n",
              "      <td>10</td>\n",
              "      <td>57</td>\n",
              "      <td>6.111</td>\n",
              "      <td>5.802</td>\n",
              "      <td>1.0</td>\n",
              "      <td>20.9</td>\n",
              "    </tr>\n",
              "    <tr>\n",
              "      <th>3</th>\n",
              "      <td>3</td>\n",
              "      <td>4</td>\n",
              "      <td>29</td>\n",
              "      <td>2</td>\n",
              "      <td>4</td>\n",
              "      <td>19</td>\n",
              "      <td>0.681</td>\n",
              "      <td>0.516</td>\n",
              "      <td>0.0</td>\n",
              "      <td>6.3</td>\n",
              "    </tr>\n",
              "    <tr>\n",
              "      <th>4</th>\n",
              "      <td>4</td>\n",
              "      <td>5</td>\n",
              "      <td>47</td>\n",
              "      <td>1</td>\n",
              "      <td>31</td>\n",
              "      <td>253</td>\n",
              "      <td>9.308</td>\n",
              "      <td>8.908</td>\n",
              "      <td>0.0</td>\n",
              "      <td>7.2</td>\n",
              "    </tr>\n",
              "  </tbody>\n",
              "</table>\n",
              "</div>\n",
              "      <button class=\"colab-df-convert\" onclick=\"convertToInteractive('df-21fa7be1-8ec5-4716-8c04-c6f8d15e47f8')\"\n",
              "              title=\"Convert this dataframe to an interactive table.\"\n",
              "              style=\"display:none;\">\n",
              "        \n",
              "  <svg xmlns=\"http://www.w3.org/2000/svg\" height=\"24px\"viewBox=\"0 0 24 24\"\n",
              "       width=\"24px\">\n",
              "    <path d=\"M0 0h24v24H0V0z\" fill=\"none\"/>\n",
              "    <path d=\"M18.56 5.44l.94 2.06.94-2.06 2.06-.94-2.06-.94-.94-2.06-.94 2.06-2.06.94zm-11 1L8.5 8.5l.94-2.06 2.06-.94-2.06-.94L8.5 2.5l-.94 2.06-2.06.94zm10 10l.94 2.06.94-2.06 2.06-.94-2.06-.94-.94-2.06-.94 2.06-2.06.94z\"/><path d=\"M17.41 7.96l-1.37-1.37c-.4-.4-.92-.59-1.43-.59-.52 0-1.04.2-1.43.59L10.3 9.45l-7.72 7.72c-.78.78-.78 2.05 0 2.83L4 21.41c.39.39.9.59 1.41.59.51 0 1.02-.2 1.41-.59l7.78-7.78 2.81-2.81c.8-.78.8-2.07 0-2.86zM5.41 20L4 18.59l7.72-7.72 1.47 1.35L5.41 20z\"/>\n",
              "  </svg>\n",
              "      </button>\n",
              "      \n",
              "  <style>\n",
              "    .colab-df-container {\n",
              "      display:flex;\n",
              "      flex-wrap:wrap;\n",
              "      gap: 12px;\n",
              "    }\n",
              "\n",
              "    .colab-df-convert {\n",
              "      background-color: #E8F0FE;\n",
              "      border: none;\n",
              "      border-radius: 50%;\n",
              "      cursor: pointer;\n",
              "      display: none;\n",
              "      fill: #1967D2;\n",
              "      height: 32px;\n",
              "      padding: 0 0 0 0;\n",
              "      width: 32px;\n",
              "    }\n",
              "\n",
              "    .colab-df-convert:hover {\n",
              "      background-color: #E2EBFA;\n",
              "      box-shadow: 0px 1px 2px rgba(60, 64, 67, 0.3), 0px 1px 3px 1px rgba(60, 64, 67, 0.15);\n",
              "      fill: #174EA6;\n",
              "    }\n",
              "\n",
              "    [theme=dark] .colab-df-convert {\n",
              "      background-color: #3B4455;\n",
              "      fill: #D2E3FC;\n",
              "    }\n",
              "\n",
              "    [theme=dark] .colab-df-convert:hover {\n",
              "      background-color: #434B5C;\n",
              "      box-shadow: 0px 1px 3px 1px rgba(0, 0, 0, 0.15);\n",
              "      filter: drop-shadow(0px 1px 2px rgba(0, 0, 0, 0.3));\n",
              "      fill: #FFFFFF;\n",
              "    }\n",
              "  </style>\n",
              "\n",
              "      <script>\n",
              "        const buttonEl =\n",
              "          document.querySelector('#df-21fa7be1-8ec5-4716-8c04-c6f8d15e47f8 button.colab-df-convert');\n",
              "        buttonEl.style.display =\n",
              "          google.colab.kernel.accessAllowed ? 'block' : 'none';\n",
              "\n",
              "        async function convertToInteractive(key) {\n",
              "          const element = document.querySelector('#df-21fa7be1-8ec5-4716-8c04-c6f8d15e47f8');\n",
              "          const dataTable =\n",
              "            await google.colab.kernel.invokeFunction('convertToInteractive',\n",
              "                                                     [key], {});\n",
              "          if (!dataTable) return;\n",
              "\n",
              "          const docLinkHtml = 'Like what you see? Visit the ' +\n",
              "            '<a target=\"_blank\" href=https://colab.research.google.com/notebooks/data_table.ipynb>data table notebook</a>'\n",
              "            + ' to learn more about interactive tables.';\n",
              "          element.innerHTML = '';\n",
              "          dataTable['output_type'] = 'display_data';\n",
              "          await google.colab.output.renderOutput(dataTable, element);\n",
              "          const docLink = document.createElement('div');\n",
              "          docLink.innerHTML = docLinkHtml;\n",
              "          element.appendChild(docLink);\n",
              "        }\n",
              "      </script>\n",
              "    </div>\n",
              "  </div>\n",
              "  "
            ]
          },
          "metadata": {},
          "execution_count": 9
        }
      ]
    },
    {
      "cell_type": "code",
      "source": [
        "df = df.drop([\"Unnamed: 0\", \"Customer Id\"], axis=1)\n",
        "df.head()"
      ],
      "metadata": {
        "colab": {
          "base_uri": "https://localhost:8080/",
          "height": 267
        },
        "id": "-9SEX9M1eHsY",
        "outputId": "d66a6a43-68b7-44bf-dd97-8734a1a0f001"
      },
      "execution_count": 2,
      "outputs": [
        {
          "output_type": "execute_result",
          "data": {
            "text/plain": [
              "   Age  Edu  Years Employed  Income  Card Debt  Other Debt  Defaulted  \\\n",
              "0   41    2               6      19      0.124       1.073        0.0   \n",
              "1   47    1              26     100      4.582       8.218        0.0   \n",
              "2   33    2              10      57      6.111       5.802        1.0   \n",
              "3   29    2               4      19      0.681       0.516        0.0   \n",
              "4   47    1              31     253      9.308       8.908        0.0   \n",
              "\n",
              "   DebtIncomeRatio  \n",
              "0              6.3  \n",
              "1             12.8  \n",
              "2             20.9  \n",
              "3              6.3  \n",
              "4              7.2  "
            ],
            "text/html": [
              "\n",
              "  <div id=\"df-9840ecba-6bd3-4820-8c91-31aa45fe7e2a\">\n",
              "    <div class=\"colab-df-container\">\n",
              "      <div>\n",
              "<style scoped>\n",
              "    .dataframe tbody tr th:only-of-type {\n",
              "        vertical-align: middle;\n",
              "    }\n",
              "\n",
              "    .dataframe tbody tr th {\n",
              "        vertical-align: top;\n",
              "    }\n",
              "\n",
              "    .dataframe thead th {\n",
              "        text-align: right;\n",
              "    }\n",
              "</style>\n",
              "<table border=\"1\" class=\"dataframe\">\n",
              "  <thead>\n",
              "    <tr style=\"text-align: right;\">\n",
              "      <th></th>\n",
              "      <th>Age</th>\n",
              "      <th>Edu</th>\n",
              "      <th>Years Employed</th>\n",
              "      <th>Income</th>\n",
              "      <th>Card Debt</th>\n",
              "      <th>Other Debt</th>\n",
              "      <th>Defaulted</th>\n",
              "      <th>DebtIncomeRatio</th>\n",
              "    </tr>\n",
              "  </thead>\n",
              "  <tbody>\n",
              "    <tr>\n",
              "      <th>0</th>\n",
              "      <td>41</td>\n",
              "      <td>2</td>\n",
              "      <td>6</td>\n",
              "      <td>19</td>\n",
              "      <td>0.124</td>\n",
              "      <td>1.073</td>\n",
              "      <td>0.0</td>\n",
              "      <td>6.3</td>\n",
              "    </tr>\n",
              "    <tr>\n",
              "      <th>1</th>\n",
              "      <td>47</td>\n",
              "      <td>1</td>\n",
              "      <td>26</td>\n",
              "      <td>100</td>\n",
              "      <td>4.582</td>\n",
              "      <td>8.218</td>\n",
              "      <td>0.0</td>\n",
              "      <td>12.8</td>\n",
              "    </tr>\n",
              "    <tr>\n",
              "      <th>2</th>\n",
              "      <td>33</td>\n",
              "      <td>2</td>\n",
              "      <td>10</td>\n",
              "      <td>57</td>\n",
              "      <td>6.111</td>\n",
              "      <td>5.802</td>\n",
              "      <td>1.0</td>\n",
              "      <td>20.9</td>\n",
              "    </tr>\n",
              "    <tr>\n",
              "      <th>3</th>\n",
              "      <td>29</td>\n",
              "      <td>2</td>\n",
              "      <td>4</td>\n",
              "      <td>19</td>\n",
              "      <td>0.681</td>\n",
              "      <td>0.516</td>\n",
              "      <td>0.0</td>\n",
              "      <td>6.3</td>\n",
              "    </tr>\n",
              "    <tr>\n",
              "      <th>4</th>\n",
              "      <td>47</td>\n",
              "      <td>1</td>\n",
              "      <td>31</td>\n",
              "      <td>253</td>\n",
              "      <td>9.308</td>\n",
              "      <td>8.908</td>\n",
              "      <td>0.0</td>\n",
              "      <td>7.2</td>\n",
              "    </tr>\n",
              "  </tbody>\n",
              "</table>\n",
              "</div>\n",
              "      <button class=\"colab-df-convert\" onclick=\"convertToInteractive('df-9840ecba-6bd3-4820-8c91-31aa45fe7e2a')\"\n",
              "              title=\"Convert this dataframe to an interactive table.\"\n",
              "              style=\"display:none;\">\n",
              "        \n",
              "  <svg xmlns=\"http://www.w3.org/2000/svg\" height=\"24px\"viewBox=\"0 0 24 24\"\n",
              "       width=\"24px\">\n",
              "    <path d=\"M0 0h24v24H0V0z\" fill=\"none\"/>\n",
              "    <path d=\"M18.56 5.44l.94 2.06.94-2.06 2.06-.94-2.06-.94-.94-2.06-.94 2.06-2.06.94zm-11 1L8.5 8.5l.94-2.06 2.06-.94-2.06-.94L8.5 2.5l-.94 2.06-2.06.94zm10 10l.94 2.06.94-2.06 2.06-.94-2.06-.94-.94-2.06-.94 2.06-2.06.94z\"/><path d=\"M17.41 7.96l-1.37-1.37c-.4-.4-.92-.59-1.43-.59-.52 0-1.04.2-1.43.59L10.3 9.45l-7.72 7.72c-.78.78-.78 2.05 0 2.83L4 21.41c.39.39.9.59 1.41.59.51 0 1.02-.2 1.41-.59l7.78-7.78 2.81-2.81c.8-.78.8-2.07 0-2.86zM5.41 20L4 18.59l7.72-7.72 1.47 1.35L5.41 20z\"/>\n",
              "  </svg>\n",
              "      </button>\n",
              "      \n",
              "  <style>\n",
              "    .colab-df-container {\n",
              "      display:flex;\n",
              "      flex-wrap:wrap;\n",
              "      gap: 12px;\n",
              "    }\n",
              "\n",
              "    .colab-df-convert {\n",
              "      background-color: #E8F0FE;\n",
              "      border: none;\n",
              "      border-radius: 50%;\n",
              "      cursor: pointer;\n",
              "      display: none;\n",
              "      fill: #1967D2;\n",
              "      height: 32px;\n",
              "      padding: 0 0 0 0;\n",
              "      width: 32px;\n",
              "    }\n",
              "\n",
              "    .colab-df-convert:hover {\n",
              "      background-color: #E2EBFA;\n",
              "      box-shadow: 0px 1px 2px rgba(60, 64, 67, 0.3), 0px 1px 3px 1px rgba(60, 64, 67, 0.15);\n",
              "      fill: #174EA6;\n",
              "    }\n",
              "\n",
              "    [theme=dark] .colab-df-convert {\n",
              "      background-color: #3B4455;\n",
              "      fill: #D2E3FC;\n",
              "    }\n",
              "\n",
              "    [theme=dark] .colab-df-convert:hover {\n",
              "      background-color: #434B5C;\n",
              "      box-shadow: 0px 1px 3px 1px rgba(0, 0, 0, 0.15);\n",
              "      filter: drop-shadow(0px 1px 2px rgba(0, 0, 0, 0.3));\n",
              "      fill: #FFFFFF;\n",
              "    }\n",
              "  </style>\n",
              "\n",
              "      <script>\n",
              "        const buttonEl =\n",
              "          document.querySelector('#df-9840ecba-6bd3-4820-8c91-31aa45fe7e2a button.colab-df-convert');\n",
              "        buttonEl.style.display =\n",
              "          google.colab.kernel.accessAllowed ? 'block' : 'none';\n",
              "\n",
              "        async function convertToInteractive(key) {\n",
              "          const element = document.querySelector('#df-9840ecba-6bd3-4820-8c91-31aa45fe7e2a');\n",
              "          const dataTable =\n",
              "            await google.colab.kernel.invokeFunction('convertToInteractive',\n",
              "                                                     [key], {});\n",
              "          if (!dataTable) return;\n",
              "\n",
              "          const docLinkHtml = 'Like what you see? Visit the ' +\n",
              "            '<a target=\"_blank\" href=https://colab.research.google.com/notebooks/data_table.ipynb>data table notebook</a>'\n",
              "            + ' to learn more about interactive tables.';\n",
              "          element.innerHTML = '';\n",
              "          dataTable['output_type'] = 'display_data';\n",
              "          await google.colab.output.renderOutput(dataTable, element);\n",
              "          const docLink = document.createElement('div');\n",
              "          docLink.innerHTML = docLinkHtml;\n",
              "          element.appendChild(docLink);\n",
              "        }\n",
              "      </script>\n",
              "    </div>\n",
              "  </div>\n",
              "  "
            ]
          },
          "metadata": {},
          "execution_count": 2
        }
      ]
    },
    {
      "cell_type": "code",
      "source": [
        "df.isna().sum()/len(df)*100\n",
        "#not going to drop column since there are no significantly missing values"
      ],
      "metadata": {
        "colab": {
          "base_uri": "https://localhost:8080/"
        },
        "id": "VXSaV98Igc3_",
        "outputId": "9c884b39-e3fd-421e-c902-04585622ac6d"
      },
      "execution_count": 7,
      "outputs": [
        {
          "output_type": "execute_result",
          "data": {
            "text/plain": [
              "Age                 0.000000\n",
              "Edu                 0.000000\n",
              "Years Employed      0.000000\n",
              "Income              0.000000\n",
              "Card Debt           0.000000\n",
              "Other Debt          0.000000\n",
              "Defaulted          17.647059\n",
              "DebtIncomeRatio     0.000000\n",
              "dtype: float64"
            ]
          },
          "metadata": {},
          "execution_count": 7
        }
      ]
    },
    {
      "cell_type": "code",
      "source": [
        "# Instantiate Standard Scaler\n",
        "scaler = StandardScaler()\n",
        "#handle missing values on numeric by using appropriate imputation strategies\n",
        "mean_imputer = SimpleImputer(strategy = \"mean\")\n",
        "num_pipeline = make_pipeline(mean_imputer, scaler)\n",
        "num_cols = ['Defaulted']\n",
        "num_tuple = (num_pipeline, num_cols)\n",
        "\n",
        "preprocessor = make_column_transformer(num_tuple, remainder=\"drop\", \n",
        "                                       verbose_feature_names_out=False)\n",
        "# Fit & transform data.\n",
        "scaled_df = preprocessor.fit_transform(df)"
      ],
      "metadata": {
        "id": "67I44kfjdTfI"
      },
      "execution_count": 10,
      "outputs": []
    },
    {
      "cell_type": "markdown",
      "source": [
        "#Use KMeans to create various customer segments.\n"
      ],
      "metadata": {
        "id": "Or_IZlAWcIgH"
      }
    },
    {
      "cell_type": "markdown",
      "source": [
        "##Use an Elbow Plot of inertia.\n"
      ],
      "metadata": {
        "id": "BQM3UsJRcYWg"
      }
    },
    {
      "cell_type": "code",
      "execution_count": 14,
      "metadata": {
        "colab": {
          "base_uri": "https://localhost:8080/",
          "height": 1000
        },
        "id": "IgjYXXHdcAnT",
        "outputId": "f109c241-435b-4e5c-94a6-68186cd3d5cf"
      },
      "outputs": [
        {
          "output_type": "stream",
          "name": "stderr",
          "text": [
            "/usr/local/lib/python3.9/dist-packages/sklearn/cluster/_kmeans.py:870: FutureWarning: The default value of `n_init` will change from 10 to 'auto' in 1.4. Set the value of `n_init` explicitly to suppress the warning\n",
            "  warnings.warn(\n",
            "/usr/local/lib/python3.9/dist-packages/sklearn/cluster/_kmeans.py:870: FutureWarning: The default value of `n_init` will change from 10 to 'auto' in 1.4. Set the value of `n_init` explicitly to suppress the warning\n",
            "  warnings.warn(\n",
            "/usr/local/lib/python3.9/dist-packages/sklearn/cluster/_kmeans.py:870: FutureWarning: The default value of `n_init` will change from 10 to 'auto' in 1.4. Set the value of `n_init` explicitly to suppress the warning\n",
            "  warnings.warn(\n",
            "<ipython-input-14-23cfd7af6bfa>:6: ConvergenceWarning: Number of distinct clusters (3) found smaller than n_clusters (4). Possibly due to duplicate points in X.\n",
            "  kmeans.fit(scaled_df)\n",
            "/usr/local/lib/python3.9/dist-packages/sklearn/cluster/_kmeans.py:870: FutureWarning: The default value of `n_init` will change from 10 to 'auto' in 1.4. Set the value of `n_init` explicitly to suppress the warning\n",
            "  warnings.warn(\n",
            "<ipython-input-14-23cfd7af6bfa>:6: ConvergenceWarning: Number of distinct clusters (3) found smaller than n_clusters (5). Possibly due to duplicate points in X.\n",
            "  kmeans.fit(scaled_df)\n",
            "/usr/local/lib/python3.9/dist-packages/sklearn/cluster/_kmeans.py:870: FutureWarning: The default value of `n_init` will change from 10 to 'auto' in 1.4. Set the value of `n_init` explicitly to suppress the warning\n",
            "  warnings.warn(\n",
            "<ipython-input-14-23cfd7af6bfa>:6: ConvergenceWarning: Number of distinct clusters (3) found smaller than n_clusters (6). Possibly due to duplicate points in X.\n",
            "  kmeans.fit(scaled_df)\n",
            "/usr/local/lib/python3.9/dist-packages/sklearn/cluster/_kmeans.py:870: FutureWarning: The default value of `n_init` will change from 10 to 'auto' in 1.4. Set the value of `n_init` explicitly to suppress the warning\n",
            "  warnings.warn(\n",
            "<ipython-input-14-23cfd7af6bfa>:6: ConvergenceWarning: Number of distinct clusters (3) found smaller than n_clusters (7). Possibly due to duplicate points in X.\n",
            "  kmeans.fit(scaled_df)\n",
            "/usr/local/lib/python3.9/dist-packages/sklearn/cluster/_kmeans.py:870: FutureWarning: The default value of `n_init` will change from 10 to 'auto' in 1.4. Set the value of `n_init` explicitly to suppress the warning\n",
            "  warnings.warn(\n",
            "<ipython-input-14-23cfd7af6bfa>:6: ConvergenceWarning: Number of distinct clusters (3) found smaller than n_clusters (8). Possibly due to duplicate points in X.\n",
            "  kmeans.fit(scaled_df)\n",
            "/usr/local/lib/python3.9/dist-packages/sklearn/cluster/_kmeans.py:870: FutureWarning: The default value of `n_init` will change from 10 to 'auto' in 1.4. Set the value of `n_init` explicitly to suppress the warning\n",
            "  warnings.warn(\n",
            "<ipython-input-14-23cfd7af6bfa>:6: ConvergenceWarning: Number of distinct clusters (3) found smaller than n_clusters (9). Possibly due to duplicate points in X.\n",
            "  kmeans.fit(scaled_df)\n",
            "/usr/local/lib/python3.9/dist-packages/sklearn/cluster/_kmeans.py:870: FutureWarning: The default value of `n_init` will change from 10 to 'auto' in 1.4. Set the value of `n_init` explicitly to suppress the warning\n",
            "  warnings.warn(\n",
            "<ipython-input-14-23cfd7af6bfa>:6: ConvergenceWarning: Number of distinct clusters (3) found smaller than n_clusters (10). Possibly due to duplicate points in X.\n",
            "  kmeans.fit(scaled_df)\n"
          ]
        },
        {
          "output_type": "execute_result",
          "data": {
            "text/plain": [
              "Text(0, 0.5, 'inertia')"
            ]
          },
          "metadata": {},
          "execution_count": 14
        },
        {
          "output_type": "display_data",
          "data": {
            "text/plain": [
              "<Figure size 640x480 with 1 Axes>"
            ],
            "image/png": "[encoded data removed]"
          },
          "metadata": {}
        }
      ],
      "source": [
        "#Create an empty list of inertias\n",
        "inertias = []\n",
        "#Loop through k values between 2 and 10 and store the inertias in the list.\n",
        "for k in range(2,11):\n",
        "    kmeans = KMeans(n_clusters=k)  \n",
        "    kmeans.fit(scaled_df)  \n",
        "    inertias.append(kmeans.inertia_)\n",
        "#Visualize scores\n",
        "plt.plot(range(2,11), inertias, marker = '.')\n",
        "plt.xlabel('clusters')\n",
        "plt.ylabel('inertia')\n",
        "#looks like 3 is the elbow point"
      ]
    },
    {
      "cell_type": "markdown",
      "source": [
        "thiss what it looks like when i expand k range to 101\n",
        "\n",
        "![image.png](data:image/png;base64,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)"
      ],
      "metadata": {
        "id": "Hn4SjZ5FiE4p"
      }
    },
    {
      "cell_type": "markdown",
      "source": [
        "##And a plot of Silhouette Scores.\n"
      ],
      "metadata": {
        "id": "80r8VAoYccrP"
      }
    },
    {
      "cell_type": "code",
      "source": [
        "silhouette_scores = []\n",
        "for i in range(2, 11):\n",
        "  kmeans = KMeans(n_clusters = i)\n",
        "  kmeans.fit(scaled_df)\n",
        "  silhouette_scores.append(silhouette_score(scaled_df, kmeans.labels_))\n",
        "# Visualize scores\n",
        "plt.plot(range(2, 11), silhouette_scores, marker = '.')\n",
        "plt.xlabel('Number of Clusters')\n",
        "plt.ylabel('Silhouette Score');\n",
        "#higher silhouette score is preferred"
      ],
      "metadata": {
        "colab": {
          "base_uri": "https://localhost:8080/",
          "height": 1000
        },
        "id": "32BHLzkwioSB",
        "outputId": "2ccc451d-fdf4-455e-c225-8c7dd527abb0"
      },
      "execution_count": 15,
      "outputs": [
        {
          "output_type": "stream",
          "name": "stderr",
          "text": [
            "/usr/local/lib/python3.9/dist-packages/sklearn/cluster/_kmeans.py:870: FutureWarning: The default value of `n_init` will change from 10 to 'auto' in 1.4. Set the value of `n_init` explicitly to suppress the warning\n",
            "  warnings.warn(\n",
            "/usr/local/lib/python3.9/dist-packages/sklearn/cluster/_kmeans.py:870: FutureWarning: The default value of `n_init` will change from 10 to 'auto' in 1.4. Set the value of `n_init` explicitly to suppress the warning\n",
            "  warnings.warn(\n",
            "/usr/local/lib/python3.9/dist-packages/sklearn/cluster/_kmeans.py:870: FutureWarning: The default value of `n_init` will change from 10 to 'auto' in 1.4. Set the value of `n_init` explicitly to suppress the warning\n",
            "  warnings.warn(\n",
            "<ipython-input-15-ab00242e7f32>:4: ConvergenceWarning: Number of distinct clusters (3) found smaller than n_clusters (4). Possibly due to duplicate points in X.\n",
            "  kmeans.fit(scaled_df)\n",
            "/usr/local/lib/python3.9/dist-packages/sklearn/cluster/_kmeans.py:870: FutureWarning: The default value of `n_init` will change from 10 to 'auto' in 1.4. Set the value of `n_init` explicitly to suppress the warning\n",
            "  warnings.warn(\n",
            "<ipython-input-15-ab00242e7f32>:4: ConvergenceWarning: Number of distinct clusters (3) found smaller than n_clusters (5). Possibly due to duplicate points in X.\n",
            "  kmeans.fit(scaled_df)\n",
            "/usr/local/lib/python3.9/dist-packages/sklearn/cluster/_kmeans.py:870: FutureWarning: The default value of `n_init` will change from 10 to 'auto' in 1.4. Set the value of `n_init` explicitly to suppress the warning\n",
            "  warnings.warn(\n",
            "<ipython-input-15-ab00242e7f32>:4: ConvergenceWarning: Number of distinct clusters (3) found smaller than n_clusters (6). Possibly due to duplicate points in X.\n",
            "  kmeans.fit(scaled_df)\n",
            "/usr/local/lib/python3.9/dist-packages/sklearn/cluster/_kmeans.py:870: FutureWarning: The default value of `n_init` will change from 10 to 'auto' in 1.4. Set the value of `n_init` explicitly to suppress the warning\n",
            "  warnings.warn(\n",
            "<ipython-input-15-ab00242e7f32>:4: ConvergenceWarning: Number of distinct clusters (3) found smaller than n_clusters (7). Possibly due to duplicate points in X.\n",
            "  kmeans.fit(scaled_df)\n",
            "/usr/local/lib/python3.9/dist-packages/sklearn/cluster/_kmeans.py:870: FutureWarning: The default value of `n_init` will change from 10 to 'auto' in 1.4. Set the value of `n_init` explicitly to suppress the warning\n",
            "  warnings.warn(\n",
            "<ipython-input-15-ab00242e7f32>:4: ConvergenceWarning: Number of distinct clusters (3) found smaller than n_clusters (8). Possibly due to duplicate points in X.\n",
            "  kmeans.fit(scaled_df)\n",
            "/usr/local/lib/python3.9/dist-packages/sklearn/cluster/_kmeans.py:870: FutureWarning: The default value of `n_init` will change from 10 to 'auto' in 1.4. Set the value of `n_init` explicitly to suppress the warning\n",
            "  warnings.warn(\n",
            "<ipython-input-15-ab00242e7f32>:4: ConvergenceWarning: Number of distinct clusters (3) found smaller than n_clusters (9). Possibly due to duplicate points in X.\n",
            "  kmeans.fit(scaled_df)\n",
            "/usr/local/lib/python3.9/dist-packages/sklearn/cluster/_kmeans.py:870: FutureWarning: The default value of `n_init` will change from 10 to 'auto' in 1.4. Set the value of `n_init` explicitly to suppress the warning\n",
            "  warnings.warn(\n",
            "<ipython-input-15-ab00242e7f32>:4: ConvergenceWarning: Number of distinct clusters (3) found smaller than n_clusters (10). Possibly due to duplicate points in X.\n",
            "  kmeans.fit(scaled_df)\n"
          ]
        },
        {
          "output_type": "display_data",
          "data": {
            "text/plain": [
              "<Figure size 640x480 with 1 Axes>"
            ],
            "image/png": "[encoded data removed]"
          },
          "metadata": {}
        }
      ]
    },
    {
      "cell_type": "markdown",
      "source": [
        "##Choose a K based on the results."
      ],
      "metadata": {
        "id": "qtGtkwBWcfQ_"
      }
    },
    {
      "cell_type": "code",
      "source": [
        "kmeans3 = KMeans(n_clusters = 3)\n",
        "kmeans3.fit(scaled_df)\n",
        "#Save the cluster labels to the dataframe \n",
        "df['cluster3'] = kmeans3.labels_\n",
        "# Visualize the clusters\n",
        "fig, ax = plt.subplots(1,1, figsize=(5,5))\n",
        "ax.scatter(scaled_df, scaled_df, c = df['cluster3'])\n",
        "ax.set_xlabel('Age')\n",
        "ax.set_ylabel('Debt and Income Ratio')\n",
        "ax.set_title('KMeans 3 Clusters')\n",
        "plt.tight_layout();"
      ],
      "metadata": {
        "colab": {
          "base_uri": "https://localhost:8080/",
          "height": 562
        },
        "id": "Vg8iDPjhjcwn",
        "outputId": "0aa6a3c0-0edc-4893-93be-ac2a86b47f31"
      },
      "execution_count": 21,
      "outputs": [
        {
          "output_type": "stream",
          "name": "stderr",
          "text": [
            "/usr/local/lib/python3.9/dist-packages/sklearn/cluster/_kmeans.py:870: FutureWarning: The default value of `n_init` will change from 10 to 'auto' in 1.4. Set the value of `n_init` explicitly to suppress the warning\n",
            "  warnings.warn(\n"
          ]
        },
        {
          "output_type": "display_data",
          "data": {
            "text/plain": [
              "<Figure size 500x500 with 1 Axes>"
            ],
            "image/png": "[encoded data removed]"
          },
          "metadata": {}
        }
      ]
    },
    {
      "cell_type": "markdown",
      "source": [
        "Results from Elbow Plot and silhouette scores suggest when the # of cluster is 3 has the best results."
      ],
      "metadata": {
        "id": "T5mdiH5Bi-x7"
      }
    }
  ]
}